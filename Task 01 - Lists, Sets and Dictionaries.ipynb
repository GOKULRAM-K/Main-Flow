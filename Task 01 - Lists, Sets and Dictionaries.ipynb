{
 "cells": [
  {
   "cell_type": "code",
   "execution_count": 59,
   "id": "fd5b585c",
   "metadata": {},
   "outputs": [],
   "source": [
    "#List:\n",
    "a = [1,2,4]\n",
    "b = [6,7,8,9,10]\n",
    "a.append(5)\n",
    "a.insert(2,3)\n",
    "a.extend(b)\n",
    "\n",
    "a.pop() #to pop the last value\n",
    "a.pop(1) #to pop the respective indexed value\n",
    "a.remove(5) #remove a value\n",
    "\n",
    "a.sort(reverse=True) #descending order\n",
    "a.sort() #ascending order\n",
    "\n",
    "a = b #when changes made in b, a gets updated -- it copies the reference points\n",
    "a = b.copy() #justs copies the values\n",
    "\n",
    "a.count(5) #counts number of 5 in it\n",
    "\n",
    "a.clear() #to clear the list of values\n",
    "del a #to delete the entire list fuly"
   ]
  },
  {
   "cell_type": "code",
   "execution_count": 75,
   "id": "12c4e06d",
   "metadata": {},
   "outputs": [],
   "source": [
    "#Dictionary:\n",
    "d = {\"Name\": \"Gokul Ram K\", \"State\": \"TN\"}\n",
    "\n",
    "d[\"Age\"] = 18 #adding a key-value pair \n",
    "d.get(\"Age\") #returns 18\n",
    "d.keys()\n",
    "d.values()\n",
    "d.items() \n",
    "\n",
    "d2 = {\"State\" : \"KA\", \"Rank\" : 1}\n",
    "d.update(d2) #Rank gets added and the state gets updated\n",
    "\n",
    "d.popitem() #pops lastly added item\n",
    "d.pop(\"Age\") #pops the age pair alone returns the value of that one\n",
    "del d[\"State\"] #deletes that alone completely\n",
    "d.clear() #clears the existing values alone\n",
    "del d #deletes the entire dictionary completely\n",
    "\n",
    "#Copy Methods\n",
    "d = d2\n",
    "d = d2.copy()\n",
    "\n",
    "d3 = {\"age\": 18}\n",
    "d3.setdefault(\"age\",\"white\") #if the key exists no change. if it doesn't exist the new pair is added\n",
    "d3\n",
    "\n",
    "\n",
    "#Fromkeys ka method\n",
    "l = [\"k1\",\"k2\",\"k3\",\"k4\",\"k5\"]\n",
    "i = 0\n",
    "new_dict = dict.fromkeys(l,i) #create a dictionary with the keys specificed in l all having the values of i\n",
    "new_dict\n",
    "\n",
    "new_dict = dict.fromkeys(l) #no values is mentioned. so all with None"
   ]
  },
  {
   "cell_type": "code",
   "execution_count": 30,
   "id": "c71a6377",
   "metadata": {},
   "outputs": [],
   "source": [
    "#creating a set\n",
    "s1 = {1,2,3,4,5}\n",
    "s1.add(6)\n",
    "s1.remove(3)\n",
    "s1.discard(8) #8 doesnt belong to the set. Discard is used to avoid error when the value doesn't exist already\n",
    "s1.add(1) #accepts only unique values. But no error\n",
    "s1.pop() #to randomly pop a value\n",
    "s1.clear() #to empty the set (len: 0)\n",
    "del s1 #to delete the set completely (doesn't exist there after)"
   ]
  },
  {
   "cell_type": "code",
   "execution_count": 44,
   "id": "11edb9cd",
   "metadata": {},
   "outputs": [],
   "source": [
    "s1 = {1,2,3,4,5}\n",
    "s2 = {2,4,3,6,7}\n",
    "s3 = s1.union(s2) #includes all values\n",
    "#s1.update(s2) #updates the set at the same line\n",
    "s5 = s1.intersection(s2) #only common values\n",
    "s6 = s1.difference(s2) #unique values in s1\n",
    "s7 = s1.symmetric_difference(s2) #except all common values"
   ]
  },
  {
   "cell_type": "code",
   "execution_count": 52,
   "id": "319fd437",
   "metadata": {},
   "outputs": [
    {
     "name": "stdout",
     "output_type": "stream",
     "text": [
      "{1, 2, 3, 4, 5, 'c', 'a', 'b'}\n"
     ]
    }
   ],
   "source": [
    "t = ('a','b','c')\n",
    "s1.update(t)\n",
    "print(s1)"
   ]
  },
  {
   "cell_type": "code",
   "execution_count": null,
   "id": "f5283066",
   "metadata": {},
   "outputs": [],
   "source": []
  }
 ],
 "metadata": {
  "kernelspec": {
   "display_name": "Python 3 (ipykernel)",
   "language": "python",
   "name": "python3"
  },
  "language_info": {
   "codemirror_mode": {
    "name": "ipython",
    "version": 3
   },
   "file_extension": ".py",
   "mimetype": "text/x-python",
   "name": "python",
   "nbconvert_exporter": "python",
   "pygments_lexer": "ipython3",
   "version": "3.11.5"
  }
 },
 "nbformat": 4,
 "nbformat_minor": 5
}
